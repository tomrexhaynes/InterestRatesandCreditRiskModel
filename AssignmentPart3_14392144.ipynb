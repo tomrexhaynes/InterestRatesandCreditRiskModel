{
 "cells": [
  {
   "cell_type": "markdown",
   "metadata": {},
   "source": [
    "<h1 style=\"font-family:Impact,Arial;font-size:30px;\">37004 Interest Rates and Credit Risk Models - Spring 2022</h1>\n",
    "<h1 style=\"font-family:Impact,Arial;font-size:45px;\">Assignment Part 3</h1>\n",
    "<h2 style=\"font-family:Arial;\">Erik Schl&ouml;gl</h2>\n",
    "<p><small> School of Mathematical &amp; Physical Sciences<br>\n",
    "University of Technology Sydney\n",
    "</small></p>\n",
    "<p>\n",
    "<a href=\"mailto:Erik.Schlogl@uts.edu.au?Subject=37000 JIT\" target=\"_blank\">\n",
    "<small><font color=MediumVioletRed>Erik.Schlogl@uts.edu.au</font></small></a>\n",
    "</p>\n",
    "<hr style=\"height:5px;border:none;color:#333;background-color:#333;\" />"
   ]
  },
  {
   "cell_type": "markdown",
   "metadata": {},
   "source": [
    "***Importing Libraries***"
   ]
  },
  {
   "cell_type": "code",
   "execution_count": 62,
   "metadata": {},
   "outputs": [],
   "source": [
    "from scipy.optimize import fsolve\n",
    "from scipy.stats import norm\n",
    "import numpy as np\n",
    "import scipy.optimize as opt\n",
    "from scipy.optimize import minimize\n",
    "import warnings\n",
    "from IPython.display import display, HTML, Math, Markdown\n",
    "from pylab import plt, mpl\n",
    "%matplotlib inline\n",
    "from dateutil.relativedelta import relativedelta\n",
    "mpl.rcParams['font.family'] = 'serif'\n",
    "COLOR = 'black'\n",
    "mpl.rcParams['text.color'] = COLOR\n",
    "mpl.rcParams['axes.labelcolor'] = COLOR\n",
    "mpl.rcParams['xtick.color'] = COLOR\n",
    "mpl.rcParams['ytick.color'] = COLOR\n",
    "%matplotlib inline\n",
    "import pandas as pd\n",
    "import math\n",
    "from math import *"
   ]
  },
  {
   "cell_type": "markdown",
   "metadata": {},
   "source": [
    "In all the tasks below, suppose that current default–free interest rates are 1.5% continuously compounded, for all maturities. Suppose further that a corporate entity has issued &euro;150 million of corporate debt (only), paying no coupons and maturing in 10 years. This entity has a market capitalisation of &euro;28 million and the volatility of its share price is approximately 40%.\n",
    "\n",
    "<H2>Task 1:</H2>\n",
    "Using the Black-Scholes/Merton model of credit risk as explained in Lecture 7, determine the value of the debt. What is the credit spread (in terms of continuously compounded yields) for this entity? <I>(5 marks)</I>"
   ]
  },
  {
   "cell_type": "markdown",
   "metadata": {},
   "source": [
    "***Deterine the Value of Debt:***\n",
    "$$ \\text{Using the following equations:} $$\n",
    "$$d_{1,2} = \\frac{ln(\\frac{V}{K})+(r \\pm \\frac{\\sigma_V^2}{2})\\cdot(T-t)}{\\sigma_V\\cdot\\sqrt{T-t}}$$\n",
    "$$ E(t) = V \\phi (d_1) - Ke^{r(T-t)}\\cdot \\phi(d_2)$$ \n",
    "\n",
    "$$\\sigma_E = \\frac{\\partial E}{\\partial V} \\cdot \\frac{V}{E} \\cdot \\sigma_V $$\n",
    "$$\\therefore \\sigma_E = \\frac{1}{\\phi (d_1)} \\cdot \\frac{V}{E} \\cdot \\sigma_V  $$\n",
    "$$\\text{It follows that:}$$\n",
    "\n",
    "$$\\sigma_V = \\frac{E \\cdot \\sigma_E}{V \\cdot \\phi(d_1)}$$\n",
    "\n",
    "\n",
    "$$\\text{In our scenario here, we have:}$$\n",
    "\n",
    "$$ t = 0, \\quad T = 10, \\quad E(0) = €28,000,000.00, \\quad K = €150,000,000, \\quad r = 1.5\\%, \\quad \\sigma_{E(0)} = 40\\%$$\n",
    "\n",
    "$$\\text{Below I use the following equations to solve for both }\\sigma_V \\text{ and } V$$\n",
    "\n",
    "$$0 = \\sigma_V \\cdot V \\cdot \\phi(d_1) - 11.2 \\quad \\text{and} \\quad 0 = V\\cdot\\phi(d_1) - 150\\cdot e^{-0.015\\cdot10} \\cdot \\phi(d_2) - 28$$\n",
    "\n",
    "***Formula for $\\phi(d_1)$ and $\\phi(d_2)$***"
   ]
  },
  {
   "cell_type": "code",
   "execution_count": 63,
   "metadata": {},
   "outputs": [],
   "source": [
    "def nd1(V:float,sgm_V:float):\n",
    "    first = np.log(V/150)\n",
    "    second = (0.015+((sgm_V**2)/2))*10\n",
    "    third = sgm_V*(np.sqrt(10))\n",
    "    fourth = (first + second)/third\n",
    "    return norm.cdf(fourth)\n",
    "\n",
    "def nd2(V:float,sgm_V:float):\n",
    "    first = np.log(V/150)\n",
    "    second = (0.015-((sgm_V**2)/2))*10\n",
    "    third = sgm_V*(np.sqrt(10))\n",
    "    fourth = (first + second)/third\n",
    "    return norm.cdf(fourth)"
   ]
  },
  {
   "cell_type": "markdown",
   "metadata": {},
   "source": [
    "***Creating a formula where we can use $\\texttt{fsolve}$ to solve the system***"
   ]
  },
  {
   "cell_type": "code",
   "execution_count": 64,
   "metadata": {},
   "outputs": [],
   "source": [
    "def eqs(variables:list):\n",
    "    V, sgm_V = variables\n",
    "    eq1 = (sgm_V * V * nd1(V,sgm_V)) - 11.2  \n",
    "    eq2 = (V * nd1(V,sgm_V)) - (150*np.exp(-0.015*10)*nd2(V,sgm_V)) - 28\n",
    "    return [eq1,eq2]"
   ]
  },
  {
   "cell_type": "markdown",
   "metadata": {},
   "source": [
    "***Solving the System for $V$ and $\\sigma_V$***\n",
    "###### Note: Below I also supress and then unsurpress the RuntimeWarnings and DepreciationWarnings"
   ]
  },
  {
   "cell_type": "code",
   "execution_count": 74,
   "metadata": {},
   "outputs": [
    {
     "data": {
      "text/plain": [
       "[144.6555292287109, 0.1120838131528769]"
      ]
     },
     "metadata": {},
     "output_type": "display_data"
    },
    {
     "data": {
      "text/markdown": [
       "$V$:  €144655529.23"
      ],
      "text/plain": [
       "<IPython.core.display.Markdown object>"
      ]
     },
     "metadata": {},
     "output_type": "display_data"
    },
    {
     "data": {
      "text/markdown": [
       "$\\sigma_V$:  0.1121"
      ],
      "text/plain": [
       "<IPython.core.display.Markdown object>"
      ]
     },
     "metadata": {},
     "output_type": "display_data"
    }
   ],
   "source": [
    "# Ignore wanrnings\n",
    "warnings.filterwarnings(\"ignore\")\n",
    "\n",
    "# Find solution for V and sigma V\n",
    "V, sgm_V =  fsolve(eqs, (100, 100))\n",
    "\n",
    "# Print results\n",
    "display(list([V, sgm_V]))\n",
    "display(Markdown(r'$V$' + str(':  €') + str(round(V*1000000,2))))\n",
    "display(Markdown(r'$\\sigma_V$' + str(':  ') + str(round(sgm_V,4)) ))\n",
    "\n",
    "# Unignore warnings\n",
    "warnings.filterwarnings(\"default\")"
   ]
  },
  {
   "cell_type": "markdown",
   "metadata": {},
   "source": [
    "We know $E(0)$ and now $V$, we can then find $\\overline{B}(0)$ using the following:\n",
    "$$ \\overline{B}(0) = V - E(0)$$"
   ]
  },
  {
   "cell_type": "code",
   "execution_count": 75,
   "metadata": {},
   "outputs": [
    {
     "data": {
      "text/markdown": [
       "$\\overline{B}(0)$:  €116655529.23"
      ],
      "text/plain": [
       "<IPython.core.display.Markdown object>"
      ]
     },
     "metadata": {},
     "output_type": "display_data"
    }
   ],
   "source": [
    "# Value of debt\n",
    "ValueofDebt = (V*1000000)-28000000\n",
    "\n",
    "# Print result\n",
    "display(Markdown(r'$\\overline{B}(0)$' + str(':  €') + str(round(ValueofDebt,2))))"
   ]
  },
  {
   "cell_type": "markdown",
   "metadata": {},
   "source": [
    "***Now, finding a formula for the credit spread:***\n",
    "\n",
    "We have the default free continiously compounded yields, we can find the ZCB price at that time using:\n",
    "$$ y(t,T) = -\\frac{ln(B(t,T))}{T-t} \\quad \\text{and} \\quad \\overline{y}(t,T) = -\\frac{ln(\\overline{B}(t,T))}{T-t} \\rightarrow s_y(t, T ) = \\overline{y} (t, T ) − y (t, T)  $$\n",
    "$$ y(0,10) = -\\frac{ln(B(0,10))}{10} \\quad \\text{and} \\quad \\overline{y}(0,10) = -\\frac{ln(\\overline{B}(0,10))}{10}\\rightarrow s_y(0, 10 ) = \\overline{y} (0, 10 ) − y (0, 10)  $$\n",
    "\n",
    "$$ B(t,T) = exp(-y(t,T)\\cdot T) \\rightarrow B(0,10) = exp(-y(0,10)\\cdot10) $$\n",
    "\n",
    "$$\\therefore y(0,10) = 1.5\\%$$"
   ]
  },
  {
   "cell_type": "code",
   "execution_count": 76,
   "metadata": {},
   "outputs": [
    {
     "data": {
      "text/markdown": [
       "Credit Spread $c$  :  0.010141"
      ],
      "text/plain": [
       "<IPython.core.display.Markdown object>"
      ]
     },
     "metadata": {},
     "output_type": "display_data"
    }
   ],
   "source": [
    "# Final answer\n",
    "ans2 = -np.log(((ValueofDebt/1000000)/150))/10\n",
    "\n",
    "# Print result\n",
    "display(Markdown(r'Credit Spread $c$  :  ' + str(round(ans2 - 0.015,7))))"
   ]
  },
  {
   "cell_type": "markdown",
   "metadata": {},
   "source": [
    "<H2>Task 2:</H2>\n",
    "Assume now that the default-free bond price dynamics and firm's value process are given by\n",
    "\\begin{eqnarray*}\n",
    "\\frac{dB(t,T)}{B(t,T)}&=&rdt+\\sigma_r\\cdot(T-t)dW_1(t)\\\\\n",
    "\\frac{dV(t)}{V(t)}&=&rdt+\\sigma_V\\left(\\rho\n",
    "dW_1(t)+\\sqrt{1-\\rho^2}dW_2(t)\\right)\n",
    "\\end{eqnarray*}\n",
    "with $W_1$ and $W_2$ independent Brownian motions under the spot risk-neutral measure. Assume further that the firm defaults at time $\\tau$ if \n",
    "$$\n",
    "V(\\tau)<B(\\tau,T)K\n",
    "$$\n",
    "where $T$ is the maturity of the debt and $K$ is the face value of the debt. In the event of default at time $\\tau$, the debt holders receive a total of $KcB(\\tau,T)$ at time $\\tau$.\n",
    "\n",
    "In addition to the information given above, assume $\\rho=-0.4$ and $\\sigma_r=0.015$. Determine the value of the debt as a function of $c$. Plot the credit spread (in terms of continuously compounded yields) for this entity as a function of $c$ for $0<c<1$. <I>(5 marks)</I>"
   ]
  },
  {
   "cell_type": "markdown",
   "metadata": {},
   "source": [
    "***Finding a formula for $V$ and $\\sigma_V$***\n",
    "\n",
    "For $V(0)$ we have the following:\n",
    "\n",
    "$$V(0) = \\frac{E - K\\cdot B(0,T)P_T\\{\\text{no default}\\}}{P_V\\{\\text{no default}\\}}$$ \n",
    "$$ \\text{ i.e. } 0 =  E - K\\cdot B(0,T)P_T\\{\\text{no default}\\} - V(0)P_V\\{\\text{no default}\\}$$ \n",
    "\n",
    "$$P_T\\{\\text{no default\\}} = \\mathcal{N}\\left( \\frac{k + \\frac{1}{2}Q(T)}{\\sqrt{Q(T)}}\\right ) - e^{-2k}\\cdot \\mathcal{N}\\left( \\frac{-k + \\frac{1}{2}Q(T)}{\\sqrt{Q(T)}}\\right )$$\n",
    "\n",
    "$$P_V\\{\\text{no default\\}} = \\mathcal{N}\\left( \\frac{k - \\frac{1}{2}Q(T)}{\\sqrt{Q(T)}}\\right ) - e^{-2k}\\cdot \\mathcal{N}\\left( \\frac{-k - \\frac{1}{2}Q(T)}{\\sqrt{Q(T)}}\\right )$$\n",
    "\n",
    "$$\\text{with} \\quad Q(T) = \\sigma_V^{2}T - \\rho \\sigma_V \\sigma_r T^{2} + \\frac{1}{3}\\sigma^{2}_r T^3 \\quad \\text{and } \\quad k = \\text{ln}\\frac{V(0)}{B(0,T)\\cdot K} $$\n",
    "\n",
    "***For the partial derivative $\\frac{\\partial E}{\\partial V}$***  \n",
    "###### Note: This was completed using mathematica, I have uploaded a .pdf of that notebook with this assignment.\n",
    "\n",
    "\n",
    "$$ \\frac{\\partial E}{\\partial V(0)} = -\\frac{e^{-3 r T}}{\\sqrt{Q(T)} V(0)^3} \\left(-2 K^3 \\sqrt{Q(T)} \\cdot \\mathcal{N}\\left[\\frac{0.5Q(T)-\\log \\left(\\frac{V(0) e^{r T}}{K}\\right)}{\\sqrt{Q(T)}}\\right]+K^2 \\sqrt{Q(T)} V(0) e^{r T}\\cdot \\mathcal{N}\\left[\\frac{-\\log \\left(\\frac{V(0) e^{r T}}{K}\\right)-0.5Q(T)}{\\sqrt{Q(T)}}\\right] +\\sqrt{Q(T)} V(0)^3 e^{3 r T} \\cdot \\mathcal{N}\\left[\\frac{\\log \\left(\\frac{V(0) e^{r T}}{K}\\right)-0.5Q(T)}{\\sqrt{Q(T)}}\\right]-K^3 \\cdot \\mathcal{N}'\\left(\\frac{0.5Q(T)-\\log \\left(\\frac{V(0) e^{r T}}{K}\\right)}{\\sqrt{Q(T)}}\\right)+K^2 V(0) e^{r T} \\cdot \\mathcal{N}'\\left(\\frac{-\\log \\left(\\frac{V(0) e^{r T}}{K}\\right)-0.5Q(T)}{\\sqrt{Q(T)}}\\right)+V(0)^3 e^{3 r T} \\cdot \\mathcal{N}'\\left(\\frac{\\log \\left(\\frac{V(0) e^{r T}}{K}\\right)-0.5Q(T)}{\\sqrt{Q(T)}}\\right)-K V(0)^2 e^{2 r T} \\cdot\\mathcal{N}'\\left(\\frac{\\log \\left(\\frac{V(0) e^{r T}}{K}\\right)+0.5Q(T)}{\\sqrt{Q(T)}}\\right)\\right) $$\n",
    "\n",
    "Given the following: \n",
    "\n",
    "$$\\sigma_E = \\frac{\\partial E}{\\partial V} \\cdot \\frac{V}{E} \\cdot \\sigma_V $$\n",
    "\n",
    "$$\\text{i.e. }\\quad 0 = \\frac{\\partial E}{\\partial V} \\cdot \\frac{V}{E} \\cdot \\sigma_V - \\sigma_E $$\n",
    "\n",
    "We can use $\\texttt{fsolve}$ to solve the above equations:\n",
    "\n",
    "$$\\text{In our scenario here, we have:}$$\n",
    "\n",
    "$$ t = 0, \\quad T = 10, \\quad E(0) = €28,000,000.00, \\quad K = €150,000,000, \\quad r = 1.5\\%, \\quad \\sigma_{E(0)} = 40\\%, \\quad \\rho=-0.4 $$ \n",
    "$$ \\text{and} \\quad \\sigma_r=0.015$$\n",
    "***Functions for both the PDE and the Equity Function:***"
   ]
  },
  {
   "cell_type": "code",
   "execution_count": 77,
   "metadata": {},
   "outputs": [],
   "source": [
    "# B(0,T)\n",
    "disc = np.exp(-0.015*10)\n",
    "\n",
    "# Define function for \n",
    "def k(V:float):\n",
    "    return np.log((np.exp(-0.015*10)*V)/(150))\n",
    "\n",
    "# Define function for Q(T) and sqrt(Q(T))\n",
    "def qt(V:float,sgm_V:float):\n",
    "    ans = (((sgm_V**2)*10) - (0.4*(sgm_V)*0.015*100) + ((1/3)*(0.015**2)*(10**3)))\n",
    "    return ans, np.sqrt(ans)\n",
    "\n",
    "# Define function for Pt{no default}\n",
    "def pt(V:float,sgm_V:float):\n",
    "    return norm.cdf((disc + 0.5*qt(V,sgm_V)[0])/(np.sqrt(qt(V,sgm_V)[0]))) - np.exp(-2*disc)*norm.cdf((-disc + 0.5*qt(V,sgm_V)[0])/(np.sqrt(qt(V,sgm_V)[0])))\n",
    "\n",
    "# Define function for Pv{no default}\n",
    "def pv(V:float,sgm_V:float):\n",
    "    return norm.cdf((disc - 0.5*qt(V,sgm_V)[0])/(np.sqrt(qt(V,sgm_V)[0]))) - np.exp(-2*disc)*norm.cdf((-disc - 0.5*qt(V,sgm_V)[0])/(np.sqrt(qt(V,sgm_V)[0])))\n",
    "\n",
    "# Define function for the partial derivative\n",
    "def partial(V:float,sgm_V:float):\n",
    "    outside_brackets = ((1/(qt(V,sgm_V)[1]*(V**3)))) * np.exp(-3*0.015*10)\n",
    "    first = (np.exp(0.015*10)*(150**2)*qt(V,sgm_V)[1]*V) * norm.cdf((-0.5*qt(V,sgm_V)[0] - k(V))/(qt(V,sgm_V)[1]))\n",
    "    second = 2*(150**3)*qt(V,sgm_V)[1] * norm.cdf((0.5*qt(V,sgm_V)[0] - k(V))/(qt(V,sgm_V)[1]))\n",
    "    third = np.exp(3*0.015*10)*qt(V,sgm_V)[1]*(V**3) * norm.cdf((-0.5*qt(V,sgm_V)[0] + k(V))/(qt(V,sgm_V)[1]))\n",
    "    fourth = np.exp(0.015*10) * (150**2) * V * norm.pdf((-0.5*qt(V,sgm_V)[0] - k(V))/(qt(V,sgm_V)[1]))\n",
    "    fifth = (150**3) * norm.pdf((0.5*qt(V,sgm_V)[0] - k(V))/(qt(V,sgm_V)[1]))\n",
    "    sixth = np.exp(3*0.015*10) * (V**3) * norm.pdf((-0.5*qt(V,sgm_V)[0] + k(V))/(qt(V,sgm_V)[1]))\n",
    "    seventh = np.exp(2 * 0.015*10)*150*(V**2) * norm.pdf((0.5*qt(V,sgm_V)[0] + k(V))/(qt(V,sgm_V)[1]))\n",
    "    return -outside_brackets*(first - second + third + fourth - fifth + sixth  - seventh)\n",
    "\n",
    "def eqs2(variables:list):\n",
    "    V, sgm_V = variables\n",
    "    eq1 = 28 - (150*disc*(pt(V,sgm_V))) - (V*pv(V,sgm_V))\n",
    "    eq2 = (partial(V,sgm_V)*(V/28)*sgm_V) - 0.4\n",
    "    return [eq1,eq2]"
   ]
  },
  {
   "cell_type": "markdown",
   "metadata": {},
   "source": [
    "***Using $\\texttt{fslove}$:***"
   ]
  },
  {
   "cell_type": "code",
   "execution_count": 79,
   "metadata": {},
   "outputs": [
    {
     "data": {
      "text/plain": [
       "[4154.520843436944, 45.05638604130641]"
      ]
     },
     "metadata": {},
     "output_type": "display_data"
    },
    {
     "data": {
      "text/markdown": [
       "$V$:  €4154520843.44"
      ],
      "text/plain": [
       "<IPython.core.display.Markdown object>"
      ]
     },
     "metadata": {},
     "output_type": "display_data"
    },
    {
     "data": {
      "text/markdown": [
       "$\\sigma_V$:  45.0564"
      ],
      "text/plain": [
       "<IPython.core.display.Markdown object>"
      ]
     },
     "metadata": {},
     "output_type": "display_data"
    }
   ],
   "source": [
    "V, sgm_V =  fsolve(eqs2, (100, 0.9))\n",
    "\n",
    "display(list([V, sgm_V]))\n",
    "display(Markdown(r'$V$' + str(':  €') + str(round(V*1000000,2))))\n",
    "display(Markdown(r'$\\sigma_V$' + str(':  ') + str(round(sgm_V,4))))"
   ]
  },
  {
   "cell_type": "markdown",
   "metadata": {},
   "source": [
    "***Obviously the above is wrong - but I can't seem to figure out if I am incorrect in my computation of the partial derivative - or I am incorrect in my implementation.. Regardless, for demostration purposes I have graphed the results below:***"
   ]
  },
  {
   "cell_type": "code",
   "execution_count": 80,
   "metadata": {},
   "outputs": [
    {
     "name": "stderr",
     "output_type": "stream",
     "text": [
      "<>:28: DeprecationWarning: invalid escape sequence \\o\n",
      "<>:28: DeprecationWarning: invalid escape sequence \\o\n",
      "C:\\Users\\TomH\\AppData\\Local\\Temp\\ipykernel_57396\\1927874128.py:28: DeprecationWarning: invalid escape sequence \\o\n",
      "  ax1.set_title('$\\overline{B}(0,T)$ vs Credit Spread',size=15);\n"
     ]
    },
    {
     "data": {
      "text/html": [
       "<div>\n",
       "<style scoped>\n",
       "    .dataframe tbody tr th:only-of-type {\n",
       "        vertical-align: middle;\n",
       "    }\n",
       "\n",
       "    .dataframe tbody tr th {\n",
       "        vertical-align: top;\n",
       "    }\n",
       "\n",
       "    .dataframe thead th {\n",
       "        text-align: right;\n",
       "    }\n",
       "</style>\n",
       "<table border=\"1\" class=\"dataframe\">\n",
       "  <thead>\n",
       "    <tr style=\"text-align: right;\">\n",
       "      <th></th>\n",
       "      <th>c</th>\n",
       "      <th>cs</th>\n",
       "    </tr>\n",
       "  </thead>\n",
       "  <tbody>\n",
       "    <tr>\n",
       "      <th>0</th>\n",
       "      <td>0.000</td>\n",
       "      <td>9.661890e-05</td>\n",
       "    </tr>\n",
       "    <tr>\n",
       "      <th>1</th>\n",
       "      <td>0.001</td>\n",
       "      <td>9.652223e-05</td>\n",
       "    </tr>\n",
       "    <tr>\n",
       "      <th>2</th>\n",
       "      <td>0.002</td>\n",
       "      <td>9.642557e-05</td>\n",
       "    </tr>\n",
       "    <tr>\n",
       "      <th>3</th>\n",
       "      <td>0.003</td>\n",
       "      <td>9.632890e-05</td>\n",
       "    </tr>\n",
       "    <tr>\n",
       "      <th>4</th>\n",
       "      <td>0.004</td>\n",
       "      <td>9.623224e-05</td>\n",
       "    </tr>\n",
       "    <tr>\n",
       "      <th>...</th>\n",
       "      <td>...</td>\n",
       "      <td>...</td>\n",
       "    </tr>\n",
       "    <tr>\n",
       "      <th>996</th>\n",
       "      <td>0.996</td>\n",
       "      <td>3.862897e-07</td>\n",
       "    </tr>\n",
       "    <tr>\n",
       "      <th>997</th>\n",
       "      <td>0.997</td>\n",
       "      <td>2.897171e-07</td>\n",
       "    </tr>\n",
       "    <tr>\n",
       "      <th>998</th>\n",
       "      <td>0.998</td>\n",
       "      <td>1.931447e-07</td>\n",
       "    </tr>\n",
       "    <tr>\n",
       "      <th>999</th>\n",
       "      <td>0.999</td>\n",
       "      <td>9.657228e-08</td>\n",
       "    </tr>\n",
       "    <tr>\n",
       "      <th>1000</th>\n",
       "      <td>1.000</td>\n",
       "      <td>-0.000000e+00</td>\n",
       "    </tr>\n",
       "  </tbody>\n",
       "</table>\n",
       "<p>1001 rows × 2 columns</p>\n",
       "</div>"
      ],
      "text/plain": [
       "          c            cs\n",
       "0     0.000  9.661890e-05\n",
       "1     0.001  9.652223e-05\n",
       "2     0.002  9.642557e-05\n",
       "3     0.003  9.632890e-05\n",
       "4     0.004  9.623224e-05\n",
       "...     ...           ...\n",
       "996   0.996  3.862897e-07\n",
       "997   0.997  2.897171e-07\n",
       "998   0.998  1.931447e-07\n",
       "999   0.999  9.657228e-08\n",
       "1000  1.000 -0.000000e+00\n",
       "\n",
       "[1001 rows x 2 columns]"
      ]
     },
     "metadata": {},
     "output_type": "display_data"
    },
    {
     "data": {
      "image/png": "[encoded data removed]",
      "text/plain": [
       "<Figure size 576x432 with 1 Axes>"
      ]
     },
     "metadata": {
      "needs_background": "light"
     },
     "output_type": "display_data"
    }
   ],
   "source": [
    "def k(V0:float,B0:float,K:float):\n",
    "    return np.log(V0/(B0*K))\n",
    "\n",
    "def Q(T:float,sv:float,p:float,sr:float):\n",
    "    return ((sv**2)*T) - (p*sv*sr*(T**2)) + ((1/3)*(sr**2)*(T**3))\n",
    "\n",
    "def P(V0:float,B0:float,K:float,T:float,sv:float,p:float,sr:float):\n",
    "    first = norm.cdf((k(V0,B0,K)+(0.5*Q(T,sv,p,sr)))/(np.sqrt(Q(T,sv,p,sr))))\n",
    "    second = -np.exp(-2*k(V0,B0,K))\n",
    "    third = norm.cdf((-k(V0,B0,K)+(0.5*Q(T,sv,p,sr)))/(np.sqrt(Q(T,sv,p,sr))))\n",
    "    return first + (second * third)\n",
    "\n",
    "def DefaultableBond(V0:float,B0:float,K:float,T:float,sv:float,p:float,sr:float,c:float):\n",
    "    return ((1-((1-c)*(1-P(V0,B0,K,T,sv,p,sr)))))\n",
    "\n",
    "cs = np.arange(0,1+0.001,0.001)\n",
    "cs_li = []\n",
    "for i in range(0,len(cs)):\n",
    "    cs_li.append((-np.log(DefaultableBond(V,np.exp(-0.015*10),150,10,sgm_V,-0.4,0.015,cs[i]))/10))\n",
    "\n",
    "df = pd.DataFrame(cs, columns = ['c'])\n",
    "df['cs'] = cs_li\n",
    "\n",
    "fig, (ax1) = plt.subplots(1,figsize=(8,6));\n",
    "ax1.plot(df['c'],df['cs']);\n",
    "ax1.set(xlabel ='c');\n",
    "ax1.set(ylabel = 'Spread');\n",
    "ax1.set_title('$\\overline{B}(0,T)$ vs Credit Spread',size=15);\n",
    "ax1.xaxis.get_label().set_fontsize(12);\n",
    "ax1.yaxis.get_label().set_fontsize(12);\n",
    "ax1.set(facecolor = 'white');\n",
    "ax1.grid(color='Gray', linestyle='-.', linewidth=0.7);\n",
    "ax1.patch.set_edgecolor('black'); \n",
    "ax1.patch.set_linewidth('1'); \n",
    "\n",
    "display(df)"
   ]
  },
  {
   "cell_type": "markdown",
   "metadata": {},
   "source": [
    "***I understand the above is incorrect, and so I have also done it with the values of $\\sigma_V$ and $V(0)$ from task 1 also, again for demostration pruposes (I think the below is correct, but obviously the above is not)***"
   ]
  },
  {
   "cell_type": "code",
   "execution_count": 81,
   "metadata": {},
   "outputs": [
    {
     "name": "stderr",
     "output_type": "stream",
     "text": [
      "<>:37: DeprecationWarning: invalid escape sequence \\o\n",
      "<>:37: DeprecationWarning: invalid escape sequence \\o\n",
      "C:\\Users\\TomH\\AppData\\Local\\Temp\\ipykernel_57396\\383208900.py:37: DeprecationWarning: invalid escape sequence \\o\n",
      "  ax1.set_title('$\\overline{B}(0,T)$ vs Credit Spread',size=15);\n"
     ]
    },
    {
     "data": {
      "text/html": [
       "<div>\n",
       "<style scoped>\n",
       "    .dataframe tbody tr th:only-of-type {\n",
       "        vertical-align: middle;\n",
       "    }\n",
       "\n",
       "    .dataframe tbody tr th {\n",
       "        vertical-align: top;\n",
       "    }\n",
       "\n",
       "    .dataframe thead th {\n",
       "        text-align: right;\n",
       "    }\n",
       "</style>\n",
       "<table border=\"1\" class=\"dataframe\">\n",
       "  <thead>\n",
       "    <tr style=\"text-align: right;\">\n",
       "      <th></th>\n",
       "      <th>c</th>\n",
       "      <th>cs</th>\n",
       "    </tr>\n",
       "  </thead>\n",
       "  <tbody>\n",
       "    <tr>\n",
       "      <th>0</th>\n",
       "      <td>0.000</td>\n",
       "      <td>0.129771</td>\n",
       "    </tr>\n",
       "    <tr>\n",
       "      <th>1</th>\n",
       "      <td>0.001</td>\n",
       "      <td>0.129505</td>\n",
       "    </tr>\n",
       "    <tr>\n",
       "      <th>2</th>\n",
       "      <td>0.002</td>\n",
       "      <td>0.129240</td>\n",
       "    </tr>\n",
       "    <tr>\n",
       "      <th>3</th>\n",
       "      <td>0.003</td>\n",
       "      <td>0.128975</td>\n",
       "    </tr>\n",
       "    <tr>\n",
       "      <th>4</th>\n",
       "      <td>0.004</td>\n",
       "      <td>0.128712</td>\n",
       "    </tr>\n",
       "    <tr>\n",
       "      <th>...</th>\n",
       "      <td>...</td>\n",
       "      <td>...</td>\n",
       "    </tr>\n",
       "    <tr>\n",
       "      <th>996</th>\n",
       "      <td>0.996</td>\n",
       "      <td>0.000291</td>\n",
       "    </tr>\n",
       "    <tr>\n",
       "      <th>997</th>\n",
       "      <td>0.997</td>\n",
       "      <td>0.000218</td>\n",
       "    </tr>\n",
       "    <tr>\n",
       "      <th>998</th>\n",
       "      <td>0.998</td>\n",
       "      <td>0.000145</td>\n",
       "    </tr>\n",
       "    <tr>\n",
       "      <th>999</th>\n",
       "      <td>0.999</td>\n",
       "      <td>0.000073</td>\n",
       "    </tr>\n",
       "    <tr>\n",
       "      <th>1000</th>\n",
       "      <td>1.000</td>\n",
       "      <td>-0.000000</td>\n",
       "    </tr>\n",
       "  </tbody>\n",
       "</table>\n",
       "<p>1001 rows × 2 columns</p>\n",
       "</div>"
      ],
      "text/plain": [
       "          c        cs\n",
       "0     0.000  0.129771\n",
       "1     0.001  0.129505\n",
       "2     0.002  0.129240\n",
       "3     0.003  0.128975\n",
       "4     0.004  0.128712\n",
       "...     ...       ...\n",
       "996   0.996  0.000291\n",
       "997   0.997  0.000218\n",
       "998   0.998  0.000145\n",
       "999   0.999  0.000073\n",
       "1000  1.000 -0.000000\n",
       "\n",
       "[1001 rows x 2 columns]"
      ]
     },
     "metadata": {},
     "output_type": "display_data"
    },
    {
     "data": {
      "image/png": "[encoded data removed]",
      "text/plain": [
       "<Figure size 432x360 with 1 Axes>"
      ]
     },
     "metadata": {
      "needs_background": "light"
     },
     "output_type": "display_data"
    }
   ],
   "source": [
    "# ignore wanrnings\n",
    "warnings.filterwarnings(\"ignore\")\n",
    "\n",
    "# Re-defining V and sgm_V\n",
    "V, sgm_V =  fsolve(eqs, (100, 100))\n",
    "\n",
    "# unignore warnings\n",
    "warnings.filterwarnings(\"default\")\n",
    "\n",
    "def k(V0:float,B0:float,K:float):\n",
    "    return np.log(V0/(B0*K))\n",
    "\n",
    "def Q(T:float,sv:float,p:float,sr:float):\n",
    "    return ((sv**2)*T) - (p*sv*sr*(T**2)) + ((1/3)*(sr**2)*(T**3))\n",
    "\n",
    "def P(V0:float,B0:float,K:float,T:float,sv:float,p:float,sr:float):\n",
    "    first = norm.cdf((k(V0,B0,K)+(0.5*Q(T,sv,p,sr)))/(np.sqrt(Q(T,sv,p,sr))))\n",
    "    second = -np.exp(-2*k(V0,B0,K))\n",
    "    third = norm.cdf((-k(V0,B0,K)+(0.5*Q(T,sv,p,sr)))/(np.sqrt(Q(T,sv,p,sr))))\n",
    "    return first + (second * third)\n",
    "\n",
    "def DefaultableBond(V0:float,B0:float,K:float,T:float,sv:float,p:float,sr:float,c:float):\n",
    "    return ((1-((1-c)*(1-P(V0,B0,K,T,sv,p,sr)))))\n",
    "\n",
    "cs = np.arange(0,1+0.001,0.001)\n",
    "cs_li = []\n",
    "for i in range(0,len(cs)):\n",
    "    cs_li.append((-np.log(DefaultableBond(V,np.exp(-0.015*10),150,10,sgm_V,-0.4,0.015,cs[i]))/10))\n",
    "\n",
    "df = pd.DataFrame(cs, columns = ['c'])\n",
    "df['cs'] = cs_li\n",
    "\n",
    "fig, (ax1) = plt.subplots(1,figsize=(6,5));\n",
    "ax1.plot(df['c'],df['cs']);\n",
    "ax1.set(xlabel ='c');\n",
    "ax1.set(ylabel = 'Spread');\n",
    "ax1.set_title('$\\overline{B}(0,T)$ vs Credit Spread',size=15);\n",
    "ax1.xaxis.get_label().set_fontsize(12);\n",
    "ax1.yaxis.get_label().set_fontsize(12);\n",
    "ax1.set(facecolor = 'white');\n",
    "ax1.grid(color='Gray', linestyle='-.', linewidth=0.7);\n",
    "ax1.patch.set_edgecolor('black'); \n",
    "ax1.patch.set_linewidth('1'); \n",
    "\n",
    "display(df)"
   ]
  },
  {
   "cell_type": "markdown",
   "metadata": {},
   "source": [
    "<H2>Task 3:</H2>\n",
    "Returning to a model where interest rates are deterministic and default only occurs at maturity when $V(T)<K$, i.e. when the firm's value at maturity is less than the face value of the outstanding debt, consider a Poisson process $N$ with intensity $\\lambda$ under the risk-neutral measure. Let $(U_i)_{i\\geq1}$ be a sequence of i.i.d. random variables with expectation $\\nu$. Assume that the $\\sigma$-fields generated by $W$, $N$ and $(U_i)_{i\\geq1}$ are mutually independent under the risk-neutral measure.\n",
    "Define\n",
    "$$\n",
    "\\pi(t)=\\sum_{i=1}^{N(t)}U_i\n",
    "$$\n",
    "and write the dynamics of $V$ as\n",
    "$$\n",
    "dV(t)=V(t-)((r-\\lambda\\nu)dt+\\sigma_VdW_{\\beta}(t)+\\Delta\\pi(t))\n",
    "$$ \n",
    "Assume further that the $U_i+1$ are lognormally distributed, i.e.\n",
    "$$\n",
    "\\ln(U_i+1)\\sim\\mathcal{N}(\\mu,\\sigma)\n",
    "$$\n",
    "Write a Python function which calculates the credit spread (in terms of continuously compounded yields) for this entity, taking as inputs (in this order) $V(0)$, $K$, $T$, $r$, $\\sigma_V$, $\\lambda$, $\\mu$ and $\\sigma$.  <I>(5 marks)</I>"
   ]
  },
  {
   "cell_type": "markdown",
   "metadata": {},
   "source": [
    "***Valuation of the equity at maturity and deterministic interest rates under discountinous value process***\n",
    "We should be able to use the following:\n",
    "$$\\overline{B}(t) = V - E(t) \\Rightarrow \\overline{B}(0) = V - E(0) \\Rightarrow E(0) = V - \\overline{B}(0)$$\n",
    "We can use the fact that we can value the debt (given solvency) with the following equation:\n",
    "$$V(t) = \\mathbb{E}[V(T)\\mathbb{I}_{\\{V(T)\\geq K\\}}|\\mathcal{F}_t,N(T)-N(t) = i] = V(t)\\text{exp}\\left (  \\mu_i(T-t) + \\frac{1}{2}\\sigma_{i}^2(T-t)\\mathcal{N}(d_{1,i})   \\right )$$ \n",
    "And then pricing the equity using the below equation derived in lectures (splitting it up as in question 1 and above):\n",
    "$$C(t) = B(t,T)\\sum_{i=0}^{\\infty}\\text{exp}\\left (  -\\lambda(T-t)  \\right )\\frac{(\\lambda(T-t))^i}{i!} \\left( V(t)\\text{exp}\\left (  \\mu_i(T-t) + \\frac{1}{2}\\sigma_{i}^2(T-t)\\mathcal{N}(d_{1,i})   \\right )- K \\mathcal{N}(d_{2,i})\\right )$$\n",
    "Where: \n",
    "$$\\mu_i(T-t) = \\left ( r - \\frac{1}{2}\\sigma_{V}^2-\\lambda \\nu\\right )(T-t) + i\\mu, \\qquad \\sigma_{i}^2(T-t) = (T-t)\\sigma_{V}^2 + i\\sigma^2$$\n",
    "And:\n",
    "$$ d_{2,i} = \\frac{\\text{ln}\\frac{V(t)}{K} + \\mu_i (T-t)}{\\sqrt{\\sigma_{i}^2(T-t)}}, \\qquad d_{1,i} = d_{2,i} + \\sqrt{\\sigma_{i}^2(T-t)}$$\n",
    "Now, using the following formula for $\\nu$:\n",
    "$$\\nu := \\text{exp}\\left ( \\mu + \\frac{1}{2}\\sigma^2 -1 \\right ) \\quad \\left [ 1\\right ]$$\n",
    "\n",
    "If $C(t)$ = $E(t)$, and $V(t)$ is what is described above,  the formula for credit spread $c$ is as follows:\n",
    "$$c = \\frac{\\left(-\\text{ln} (V(0)) - \\left(B(0,T)\\cdot E(t)\\right)\\right)\\cdot T}{K} - r $$\n",
    "\n",
    "***Defining a single function***"
   ]
  },
  {
   "cell_type": "code",
   "execution_count": 82,
   "metadata": {},
   "outputs": [],
   "source": [
    "def credit_spread(V0:float,K:float,T:float,r:float,sigma_V:float,lam:float,mu:float,sigma:float):\n",
    "    \n",
    "    # Constant functions\n",
    "    first = np.exp(-r*T)\n",
    "    nu = np.exp(mu + 0.5*sigma**2) - 1\n",
    "    \n",
    "    # Loop for the sum, here - instead of truncating the sum to a 5 basis point change, I have\n",
    "    # just used the maximum math.factorial that python can compute, here it is 171\n",
    "    x = []\n",
    "    for n in range(0,171):\n",
    "        ps = np.exp(-lam*T)*((lam*T)**n)/(math.factorial(n))\n",
    "        mu_i = (r - 0.5*sigma_V**2 - lam*nu)*T + mu*n\n",
    "        sgm_i = T*sigma_V**2 + n*sigma**2\n",
    "        d2 = ((np.log(V0/K)) + mu_i)/np.sqrt(sgm_i)\n",
    "        d1 = d2+np.sqrt(sgm_i)\n",
    "        result = ps*((V0*np.exp(mu_i + 0.5*sgm_i)*norm.cdf(d1)) - K*norm.cdf(d2))\n",
    "        x.append(result)\n",
    "        \n",
    "    # V0 - discounted sum\n",
    "    discount = V0 - (first*sum(x)) \n",
    "    \n",
    "    # Divide by K  \n",
    "    dv = discount/K\n",
    "    \n",
    "    # Difference with risk free\n",
    "    return (-np.log(dv)/T) - r"
   ]
  },
  {
   "cell_type": "markdown",
   "metadata": {},
   "source": [
    "***Test values:***\n",
    "$$ V(0) = 50,000,000, \\quad K = 40,000,000 ,\\quad T =10 ,\\quad r = 0.015,\\quad \\sigma_V = 0.3,\\quad \\lambda = 0.9, \\quad\\mu = -0.1 \\quad \\text{and} \\quad \\sigma = 0.2 $$"
   ]
  },
  {
   "cell_type": "code",
   "execution_count": 83,
   "metadata": {},
   "outputs": [
    {
     "data": {
      "text/markdown": [
       "The solution for the credit spread in task 3, with these test variables I have denoted above, is: $c=$ 0.03984"
      ],
      "text/plain": [
       "<IPython.core.display.Markdown object>"
      ]
     },
     "metadata": {},
     "output_type": "display_data"
    }
   ],
   "source": [
    "# Test values \n",
    "ans3 = (credit_spread(50000000,40000000, 10, 0.015, 0.3, 0.9, -0.1, 0.2))\n",
    "# Print result\n",
    "display(Markdown('The solution for the credit spread in task 3, with these test variables I have denoted above, is: $c=$ ' + str(round(ans3,5))))"
   ]
  },
  {
   "cell_type": "markdown",
   "metadata": {},
   "source": [
    "#### References\n",
    "\n",
    "[1] Bielecki, T. R., & Rutkowski, M. (2010). Credit risk: Modeling, valuation and hedging. Springer."
   ]
  }
 ],
 "metadata": {
  "kernelspec": {
   "display_name": "Python 3.9.12 ('base')",
   "language": "python",
   "name": "python3"
  },
  "language_info": {
   "codemirror_mode": {
    "name": "ipython",
    "version": 3
   },
   "file_extension": ".py",
   "mimetype": "text/x-python",
   "name": "python",
   "nbconvert_exporter": "python",
   "pygments_lexer": "ipython3",
   "version": "3.9.12"
  },
  "vscode": {
   "interpreter": {
    "hash": "7c065e0ba689eb0bfce15d998d85bedb2ba613aacd618f4de210121bd501e8e7"
   }
  }
 },
 "nbformat": 4,
 "nbformat_minor": 4
}
